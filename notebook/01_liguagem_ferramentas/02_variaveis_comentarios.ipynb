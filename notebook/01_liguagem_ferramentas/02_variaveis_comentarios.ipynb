{
 "cells": [
  {
   "cell_type": "markdown",
   "metadata": {
    "id": "Wu7ck6xvaP6b"
   },
   "source": [
    "# <font color=\"red\"> MBA em IA e Big Data</font>\n",
    "## <span style=\"color:red\">Linguagens e Ferramentas para Inteligência Artificial e Big Data (Python e SQL)</span>\n",
    "\n",
    "### <span style=\"color:darkred\">Python - Aula 02</span>\n",
    "\n",
    "*Leandro Franco de Souza*<br>\n",
    "*ICMC/USP São Carlos*\n",
    "\n",
    "*(com material dos Profs. Luis Gustavo Nonato & Moacir Antonelli Ponti)*"
   ]
  },
  {
   "cell_type": "markdown",
   "metadata": {
    "id": "wOM5dIGtaP6d"
   },
   "source": [
    "# <font color=\"red\"> Conteúdo</font>\n",
    "\n",
    "### <span style=\"color:red\">- Variáveis</span>\n",
    "### <span style=\"color:red\">- Comentários</span>\n",
    "### <span style=\"color:red\">- Saída de dados</span>"
   ]
  },
  {
   "cell_type": "markdown",
   "metadata": {
    "id": "HihXUjOPUJXU"
   },
   "source": [
    "## Variáveis\n",
    "\n",
    "São **símbolos** com identificadores associados a **valores/literais** guardados na memória\n",
    "\n",
    "Basta:\n",
    "* nomear utilizando um identificador contendo: caracteres em mínusculo, maiúsculo, underscore (\\_)\n",
    "* *atribuir* seu primeiro valor com o operador `=`\n",
    "\n",
    "Podemos usar dígitos, mas nunca como primeiro caracter do identificador."
   ]
  },
  {
   "cell_type": "code",
   "metadata": {
    "id": "NOVztpb5UJXW",
    "ExecuteTime": {
     "end_time": "2025-09-16T10:20:38.473163Z",
     "start_time": "2025-09-16T10:20:38.470754Z"
    }
   },
   "source": [
    "x = 42\n",
    "y = 42.0\n",
    "_frase = 'inteligência artificial'"
   ],
   "outputs": [],
   "execution_count": 1
  },
  {
   "cell_type": "markdown",
   "metadata": {
    "id": "6cPVxb4WUJXZ"
   },
   "source": [
    "Para recuperar os valores basta usar os símbolos/identificadores"
   ]
  },
  {
   "cell_type": "code",
   "metadata": {
    "id": "0PzStbh1UJXb",
    "ExecuteTime": {
     "end_time": "2025-09-16T10:20:47.966691Z",
     "start_time": "2025-09-16T10:20:47.962414Z"
    }
   },
   "source": [
    "x"
   ],
   "outputs": [
    {
     "data": {
      "text/plain": [
       "42"
      ]
     },
     "execution_count": 2,
     "metadata": {},
     "output_type": "execute_result"
    }
   ],
   "execution_count": 2
  },
  {
   "cell_type": "code",
   "execution_count": null,
   "metadata": {
    "id": "Z4t64uhwUJXc"
   },
   "outputs": [],
   "source": [
    "x/y"
   ]
  },
  {
   "cell_type": "code",
   "metadata": {
    "id": "1qFtS5vnUJXc",
    "ExecuteTime": {
     "end_time": "2025-09-16T10:22:35.576795Z",
     "start_time": "2025-09-16T10:22:35.573794Z"
    }
   },
   "source": [
    "_frase + ' e big data'"
   ],
   "outputs": [
    {
     "data": {
      "text/plain": [
       "'inteligência artificial e big data'"
      ]
     },
     "execution_count": 3,
     "metadata": {},
     "output_type": "execute_result"
    }
   ],
   "execution_count": 3
  },
  {
   "cell_type": "code",
   "metadata": {
    "id": "UVEyGilbUJXd",
    "ExecuteTime": {
     "end_time": "2025-09-16T10:22:39.512917Z",
     "start_time": "2025-09-16T10:22:39.510186Z"
    }
   },
   "source": [
    "nova_frase = _frase + ' e big data'\n",
    "nova_frase"
   ],
   "outputs": [
    {
     "data": {
      "text/plain": [
       "'inteligência artificial e big data'"
      ]
     },
     "execution_count": 4,
     "metadata": {},
     "output_type": "execute_result"
    }
   ],
   "execution_count": 4
  },
  {
   "cell_type": "code",
   "metadata": {
    "id": "zzbKH8mlUJXe",
    "ExecuteTime": {
     "end_time": "2025-09-16T10:22:47.296667Z",
     "start_time": "2025-09-16T10:22:47.201996Z"
    }
   },
   "source": [
    "_FRASE"
   ],
   "outputs": [
    {
     "ename": "NameError",
     "evalue": "name '_FRASE' is not defined",
     "output_type": "error",
     "traceback": [
      "\u001B[31m---------------------------------------------------------------------------\u001B[39m",
      "\u001B[31mNameError\u001B[39m                                 Traceback (most recent call last)",
      "\u001B[36mCell\u001B[39m\u001B[36m \u001B[39m\u001B[32mIn[5]\u001B[39m\u001B[32m, line 1\u001B[39m\n\u001B[32m----> \u001B[39m\u001B[32m1\u001B[39m \u001B[43m_FRASE\u001B[49m\n",
      "\u001B[31mNameError\u001B[39m: name '_FRASE' is not defined"
     ]
    }
   ],
   "execution_count": 5
  },
  {
   "cell_type": "markdown",
   "metadata": {
    "id": "NzZN-KewUJXf"
   },
   "source": [
    "**erro: `_FRASE` não foi definido**\n",
    "\n",
    "a nomeação de identificadores é sensivel à caixa (*case sensitive*)"
   ]
  },
  {
   "cell_type": "code",
   "execution_count": null,
   "metadata": {
    "id": "vxkEIQWIbIwV"
   },
   "outputs": [],
   "source": []
  },
  {
   "cell_type": "markdown",
   "metadata": {
    "id": "bCtTwA1RUJXf"
   },
   "source": [
    "#### Palavras Reservadas\n",
    "\n",
    "Há exceções para o uso de identificadores, pois há palavras que já são parte do código Python e são vedadas para evitar ambiguidade\n",
    "\n",
    "Ex: `False, if, not, and, None, global, try`, entre outras\n",
    "\n",
    "É razoavelmente fácil identificar essas palavras pois a maior parte dos interpretadores e interfaces colorem essas palavras quando digitadas, em negrito e alguma cor (aqui estará em azul)"
   ]
  },
  {
   "cell_type": "code",
   "metadata": {
    "id": "okUbmoZmUJXg",
    "ExecuteTime": {
     "end_time": "2025-09-16T10:23:59.325035Z",
     "start_time": "2025-09-16T10:23:59.320419Z"
    }
   },
   "source": [
    "False = 45.1"
   ],
   "outputs": [
    {
     "ename": "SyntaxError",
     "evalue": "cannot assign to False (174785099.py, line 1)",
     "output_type": "error",
     "traceback": [
      "  \u001B[36mCell\u001B[39m\u001B[36m \u001B[39m\u001B[32mIn[6]\u001B[39m\u001B[32m, line 1\u001B[39m\n\u001B[31m    \u001B[39m\u001B[31mFalse = 45.1\u001B[39m\n    ^\n\u001B[31mSyntaxError\u001B[39m\u001B[31m:\u001B[39m cannot assign to False\n"
     ]
    }
   ],
   "execution_count": 6
  },
  {
   "cell_type": "code",
   "metadata": {
    "id": "lB-7vMipUJXg",
    "ExecuteTime": {
     "end_time": "2025-09-16T10:24:22.172171Z",
     "start_time": "2025-09-16T10:24:22.169307Z"
    }
   },
   "source": [
    "if = 'se eu fosse'"
   ],
   "outputs": [
    {
     "ename": "SyntaxError",
     "evalue": "invalid syntax (2662726685.py, line 1)",
     "output_type": "error",
     "traceback": [
      "  \u001B[36mCell\u001B[39m\u001B[36m \u001B[39m\u001B[32mIn[7]\u001B[39m\u001B[32m, line 1\u001B[39m\n\u001B[31m    \u001B[39m\u001B[31mif = 'se eu fosse'\u001B[39m\n       ^\n\u001B[31mSyntaxError\u001B[39m\u001B[31m:\u001B[39m invalid syntax\n"
     ]
    }
   ],
   "execution_count": 7
  },
  {
   "cell_type": "code",
   "execution_count": null,
   "metadata": {
    "id": "9EcUrVAlUJXh"
   },
   "outputs": [],
   "source": [
    "IF = 'se eu fosse'\n",
    "IF"
   ]
  },
  {
   "cell_type": "markdown",
   "metadata": {
    "id": "8d0krKU8UJXh"
   },
   "source": [
    "agora funciona pois `if` e `IF` são identificadores distintos"
   ]
  },
  {
   "cell_type": "markdown",
   "metadata": {
    "id": "bIQ27K67UJXh"
   },
   "source": [
    "## Comentários de código e saída de dados"
   ]
  },
  {
   "cell_type": "code",
   "metadata": {
    "id": "BK1zXr7-aP6i",
    "ExecuteTime": {
     "end_time": "2025-09-16T10:24:58.307281Z",
     "start_time": "2025-09-16T10:24:58.304268Z"
    }
   },
   "source": [
    "# Comentários de uma linha em Python são iniciados com \"#\"\n",
    "# --> tudo que vem após \"#\" é ignorado e não considerado código\n",
    "\n",
    "x = 36      # Criando e inicializando x como número inteiro (int)\n",
    "y = 'Hello' # Criando e inicializando y como um conjunto de caracteres (str)\n",
    "z = 3.45    # Criando e inicializando z como um número real (float)\n",
    "\n",
    "#### Imprimindo os tipos de cada variável com as funções:\n",
    "# print(): utilizada para exibir o conteúdo de variáveis, textos,\n",
    "#          ou o resultado de operações e funções\n",
    "# type(): que retorna o tipo da literal/valor informado\n",
    "\n",
    "print('Tipo da variavel x = ',type(x))\n",
    "print('Tipo da variavel y = ',type(y))\n",
    "print('Tipo da variavel z = ',type(z))"
   ],
   "outputs": [
    {
     "name": "stdout",
     "output_type": "stream",
     "text": [
      "Tipo da variavel x =  <class 'int'>\n",
      "Tipo da variavel y =  <class 'str'>\n",
      "Tipo da variavel z =  <class 'float'>\n"
     ]
    }
   ],
   "execution_count": 8
  },
  {
   "cell_type": "markdown",
   "metadata": {
    "id": "KEOrbWQcaP6t"
   },
   "source": [
    "- A atribuição cria e inicializa as variáveis\n",
    "- Cada tipo admite certas operações"
   ]
  },
  {
   "cell_type": "code",
   "execution_count": null,
   "metadata": {
    "id": "-KNJbNFlaP6v"
   },
   "outputs": [],
   "source": [
    "# criando variáveis e atribuindo valores\n",
    "x = 36\n",
    "y = \"Rio\"\n",
    "z = 3.45\n",
    "\n",
    "x = x + 2         # preserva o tipo int\n",
    "y = y + \" Grande\" # Concatenação de strings\n",
    "z = 2 + z         # preserva o tipo float\n",
    "w = x / 2         # embora x seja inteiro, a operação de divisão resulta em um float\n",
    "\n",
    "# Imprimindo os resultados\n",
    "print('x = ',x,type(x))\n",
    "print('y = ',y,type(y))\n",
    "print('z = ',z,type(z))\n",
    "print('w = ',w,type(z))"
   ]
  },
  {
   "cell_type": "markdown",
   "metadata": {
    "id": "ydH1wAkFUJXl"
   },
   "source": [
    "### Expressões aritméticas\n",
    "\n",
    "* Soma: `+`\n",
    "* Subtração: `-`\n",
    "* Multiplicação: `*`\n",
    "* Divisão: `/`\n",
    "* Divisão inteira: `//`\n",
    "* Resto da divisão: `%`\n",
    "* Exponenciação: `**`"
   ]
  },
  {
   "cell_type": "code",
   "metadata": {
    "id": "iLulysHxLwbX",
    "ExecuteTime": {
     "end_time": "2025-09-16T10:27:47.897008Z",
     "start_time": "2025-09-16T10:27:47.894123Z"
    }
   },
   "source": [
    "2 ** 3"
   ],
   "outputs": [
    {
     "data": {
      "text/plain": [
       "8"
      ]
     },
     "execution_count": 9,
     "metadata": {},
     "output_type": "execute_result"
    }
   ],
   "execution_count": 9
  },
  {
   "cell_type": "code",
   "metadata": {
    "id": "5PZpCWWzL1A5",
    "ExecuteTime": {
     "end_time": "2025-09-16T10:27:51.079706Z",
     "start_time": "2025-09-16T10:27:51.074914Z"
    }
   },
   "source": [
    "5.99999 // 2"
   ],
   "outputs": [
    {
     "data": {
      "text/plain": [
       "2.0"
      ]
     },
     "execution_count": 10,
     "metadata": {},
     "output_type": "execute_result"
    }
   ],
   "execution_count": 10
  },
  {
   "cell_type": "code",
   "metadata": {
    "id": "FS4vstSlUJXp",
    "ExecuteTime": {
     "end_time": "2025-09-16T10:28:15.409207Z",
     "start_time": "2025-09-16T10:28:15.406553Z"
    }
   },
   "source": [
    "17 % 5"
   ],
   "outputs": [
    {
     "data": {
      "text/plain": [
       "2"
      ]
     },
     "execution_count": 11,
     "metadata": {},
     "output_type": "execute_result"
    }
   ],
   "execution_count": 11
  },
  {
   "cell_type": "markdown",
   "metadata": {
    "id": "M9YQqT4YaP62"
   },
   "source": [
    "- *strings* (str) suportam os operadores ``+`` (concatenação) e ``*`` (replicação), resultando em novas strings."
   ]
  },
  {
   "cell_type": "code",
   "metadata": {
    "id": "roD0Z4Z2aP64",
    "ExecuteTime": {
     "end_time": "2025-09-16T10:28:45.660625Z",
     "start_time": "2025-09-16T10:28:45.657727Z"
    }
   },
   "source": [
    "# Exemplo da \"aritmética\" com strings\n",
    "y = 'Aprendendo'\n",
    "y = y + ' Python '\n",
    "print(\"Concatenacao y + ' Python ': \",y)\n",
    "w = 3*y   # A operação de replicação \"*\" asume um número inteiro e uma string como argumentos\n",
    "print(\"3*y replica y três vezes: \",w)"
   ],
   "outputs": [
    {
     "name": "stdout",
     "output_type": "stream",
     "text": [
      "Concatenacao y + ' Python ':  Aprendendo Python \n",
      "3*y replica y três vezes:  Aprendendo Python Aprendendo Python Aprendendo Python \n"
     ]
    }
   ],
   "execution_count": 12
  },
  {
   "cell_type": "markdown",
   "metadata": {
    "id": "mDhh6IzJaP6-"
   },
   "source": [
    "**Propriedades de uso da memória**\n",
    "- Uma *variável* é uma *instância de um objeto* em Python alocado na memória\n",
    "- Se você tentar acessar uma variável antes que ela tenha sido criada, ocorre um erro\n",
    "- É possível atribuir valores a multiplas variáveis ao mesmo tempo"
   ]
  },
  {
   "cell_type": "code",
   "execution_count": null,
   "metadata": {
    "id": "zT_TCfy6UJXv"
   },
   "outputs": [],
   "source": [
    "var = 12987.97\n",
    "var"
   ]
  },
  {
   "cell_type": "code",
   "execution_count": null,
   "metadata": {
    "id": "i4nGnZygUJXv"
   },
   "outputs": [],
   "source": [
    "a, b = 5, 10\n",
    "print(a)\n",
    "print(b)"
   ]
  },
  {
   "cell_type": "markdown",
   "metadata": {
    "id": "ZSHusM96UJXw"
   },
   "source": [
    "#### Conversão: explícita e implícita"
   ]
  },
  {
   "cell_type": "code",
   "metadata": {
    "id": "ZlM84h9qaP7C",
    "ExecuteTime": {
     "end_time": "2025-09-16T10:30:52.362126Z",
     "start_time": "2025-09-16T10:30:52.359758Z"
    }
   },
   "source": [
    "# exemplos de conversão explícita e implícita\n",
    "x = 1.76\n",
    "y = int(x)  # convertendo float para int\n",
    "z = y == 1  # resultado da comparação y == 1 (True/False) é armazenado em z\n",
    "\n",
    "print(\"x =\", x, \" | tipo:\", type(x))\n",
    "print(\"y =\", y, \"    | tipo:\", type(y))\n",
    "print(\"z =\", z, \" | tipo:\", type(z))"
   ],
   "outputs": [
    {
     "name": "stdout",
     "output_type": "stream",
     "text": [
      "x = 1.76  | tipo: <class 'float'>\n",
      "y = 1     | tipo: <class 'int'>\n",
      "z = True  | tipo: <class 'bool'>\n"
     ]
    }
   ],
   "execution_count": 13
  },
  {
   "cell_type": "markdown",
   "metadata": {
    "id": "YdrmqhMtaP7H"
   },
   "source": [
    "Uma atribuição como\n",
    "```python\n",
    "x = 2.76\n",
    "```\n",
    "é uma maneira de dar um nome a um objeto (o que é chamado *binding*).\n",
    "- Variáveis em Python não tem um tipo intrínseco, apenas objetos tem tipo\n",
    "- Objetos tem identidade (endereço na memória), um tipo e um valor\n",
    "- O Python determina o tipo da variável automaticamente baseado no objeto que ela faz referência\n",
    "- A identidade de um objeto e seu tipo não mudam\n",
    "- O valor de um objeto pode mudar"
   ]
  },
  {
   "cell_type": "markdown",
   "metadata": {
    "id": "khMzZW8oUJXx"
   },
   "source": [
    "---\n",
    "\n",
    "**<font color=\"Blue\">Exercício 1.1</font>**\n",
    "Qual o tipo do valor resultante das operações abaixo (ou das variáveis as quais foram atribuídos)?\n",
    "\n",
    "a) `False + True`<br>\n",
    "b) `2 * 1e2**2`<br>\n",
    "c) `a = 6/2`<br>\n",
    "d) `x = 6//2 + 6%2`<br>\n",
    "e) `(2 + 4) == 4 or 0 <= 1`<br>"
   ]
  },
  {
   "metadata": {
    "ExecuteTime": {
     "end_time": "2025-09-16T10:34:14.507319Z",
     "start_time": "2025-09-16T10:34:14.504539Z"
    }
   },
   "cell_type": "code",
   "source": [
    "print(False + True)\n",
    "print(2 * 1e2**2)\n",
    "a = 6/2\n",
    "print(a)\n",
    "x = 6//2 + 6%2\n",
    "print(x)\n",
    "print((2 + 4) == 4 or 0 <= 1)"
   ],
   "outputs": [
    {
     "name": "stdout",
     "output_type": "stream",
     "text": [
      "1\n",
      "20000.0\n",
      "3.0\n",
      "3\n",
      "True\n"
     ]
    }
   ],
   "execution_count": 17
  },
  {
   "cell_type": "markdown",
   "metadata": {},
   "source": [
    "# <font color=\"red\">Resumo da aula</font>\n",
    "\n",
    "### <span style=\"color:red\">- Variáveis</span>\n",
    "### <span style=\"color:red\">- Comentários</span>\n",
    "### <span style=\"color:red\">- Saída de dados</span>"
   ]
  }
 ],
 "metadata": {
  "colab": {
   "collapsed_sections": [],
   "name": "LFIABD-Aula1-1_PythonBasico.ipynb",
   "provenance": []
  },
  "kernelspec": {
   "display_name": "Python 3 (ipykernel)",
   "language": "python",
   "name": "python3"
  },
  "language_info": {
   "codemirror_mode": {
    "name": "ipython",
    "version": 3
   },
   "file_extension": ".py",
   "mimetype": "text/x-python",
   "name": "python",
   "nbconvert_exporter": "python",
   "pygments_lexer": "ipython3",
   "version": "3.10.12"
  },
  "toc": {
   "base_numbering": 1,
   "nav_menu": {},
   "number_sections": true,
   "sideBar": true,
   "skip_h1_title": false,
   "title_cell": "Table of Contents",
   "title_sidebar": "Contents",
   "toc_cell": false,
   "toc_position": {},
   "toc_section_display": true,
   "toc_window_display": false
  }
 },
 "nbformat": 4,
 "nbformat_minor": 0
}
