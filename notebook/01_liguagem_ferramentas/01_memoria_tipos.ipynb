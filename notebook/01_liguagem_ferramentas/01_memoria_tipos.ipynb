{
 "cells": [
  {
   "cell_type": "markdown",
   "metadata": {
    "id": "Wu7ck6xvaP6b"
   },
   "source": [
    "# <font color=\"red\"> MBA em IA e Big Data</font>\n",
    "## <span style=\"color:red\">Linguagens e Ferramentas para Inteligência Artificial e Big Data (Python e SQL)</span>\n",
    "\n",
    "### <span style=\"color:darkred\">Python - Aula 01</span>\n",
    "\n",
    "*Leandro Franco de Souza*<br>\n",
    "*ICMC/USP São Carlos*\n",
    "\n",
    "*(com material dos Profs. Luis Gustavo Nonato & Moacir Antonelli Ponti)*"
   ]
  },
  {
   "cell_type": "markdown",
   "metadata": {
    "id": "wOM5dIGtaP6d"
   },
   "source": [
    "# <font color=\"red\"> Conteúdo</font>\n",
    "\n",
    "### <span style=\"color:red\">- Python</span>\n",
    "### <span style=\"color:red\">- Memória</span>\n",
    "### <span style=\"color:red\">- Tipos</span>"
   ]
  },
  {
   "cell_type": "markdown",
   "metadata": {
    "id": "uMSKPCbnaP6e"
   },
   "source": [
    "# O que é Python?\n",
    "\n",
    "Python é uma linguagem de programação dinâmica e interpretada. \n",
    "\n",
    "As instruções são realizadas em *tempo de execução* e **diretamente ao invés de ser compilado**.\n",
    "\n",
    "> Compilação: significa que a linguagem é processada antes por um programa *compilador* e transformada em um arquivo binário executável\n",
    "\n",
    "> Interpretação: significa que a linguagem é processada instrução por instrução por um programa *interpretador*\n",
    "\n",
    "Um código em Python é um conjunto de símbolos e regras pré-definidas dessa linguagem\n",
    "* geralmente armazenamos esse código em um arquivo texto com extensão `.py`\n"
   ]
  },
  {
   "cell_type": "markdown",
   "metadata": {
    "id": "DhZeWCENUJWV"
   },
   "source": [
    "## Interpretador Python\n",
    "\n",
    "É basicamente um \"console\" ou \"terminal\" em que digitamos comandos em sequência\n",
    "\n",
    "Para configurar o Python no computador, é necessário fazer o download e instalar o kit de desenvolvimento em Python - https://www.python.org/downloads/\n",
    "\n",
    "Instalar a versão de acordo com Sistema Operacional, ex. Mac OSX, Linux, etc.\n",
    "\n",
    "Distribuições Linux geralmente possuem Python nativamente."
   ]
  },
  {
   "cell_type": "markdown",
   "metadata": {
    "id": "YYOBjXR1UJWZ"
   },
   "source": [
    "## Código-fonte Python\n",
    "\n",
    "Um arquivo contendo um código em python possui extensão `.py`\n",
    "\n",
    "Escrevemos funções e programas para serem carregados posteriormente e utilizados num interpretador.\n",
    "\n",
    "* O programador reúne seus principais programas e scripts em arquivos *.py* e depois abre e utiliza esses programas no interpretador."
   ]
  },
  {
   "cell_type": "markdown",
   "metadata": {
    "id": "JQdTCcZ1UJWb"
   },
   "source": [
    "## Notebook\n",
    "\n",
    "Permite misturar *código* com *conteúdo de apresentação*, salvando os resultados dos códigos, inclusive gráficos.\n",
    "\n",
    "* Arquivo notebook tem extensão `.ipynb`, utilizado para prototipação e apresentações e não para codificar programas a colocar em *produção*\n",
    "\n",
    "> Na computação separamos programas em *desenvolvimento* daqueles efetivamente funcionando na prática **em produção**\n",
    "\n",
    "O notebook também permite código em *HTML* e linguagem *Markdown*"
   ]
  },
  {
   "cell_type": "markdown",
   "metadata": {
    "id": "VnM9UUZRUJWp"
   },
   "source": [
    "### Tipos de arquivo\n",
    "\n",
    "* Programa em Python (`.py` tipo texto)\n",
    "* Notebook (`.ipynb`) tem foco na *apresentação* e permite tanto código quanto linguagem *Markdown/HTML*\n",
    "\n",
    "Essa interface que estamos usando, chamada **Jupyter Notebook** funciona como interpretador Python! "
   ]
  },
  {
   "cell_type": "code",
   "metadata": {
    "colab": {
     "base_uri": "https://localhost:8080/"
    },
    "executionInfo": {
     "elapsed": 11,
     "status": "ok",
     "timestamp": 1654527347353,
     "user": {
      "displayName": "Leandro Souza",
      "userId": "09739880192048464537"
     },
     "user_tz": 180
    },
    "id": "3HEhjw5HUJWs",
    "outputId": "1f538c09-07bf-4b68-ba13-7d2e21b7ef76",
    "ExecuteTime": {
     "end_time": "2025-09-16T01:35:15.953954Z",
     "start_time": "2025-09-16T01:35:15.951278Z"
    }
   },
   "source": [
    "50 + 10*3 + 50 / 3"
   ],
   "outputs": [
    {
     "data": {
      "text/plain": [
       "96.66666666666667"
      ]
     },
     "execution_count": 2,
     "metadata": {},
     "output_type": "execute_result"
    }
   ],
   "execution_count": 2
  },
  {
   "cell_type": "code",
   "execution_count": null,
   "metadata": {
    "id": "fUh3XbTRUJW1"
   },
   "outputs": [],
   "source": [
    "x = 5.3827\n",
    "50 + x / 10 - x"
   ]
  },
  {
   "cell_type": "markdown",
   "metadata": {
    "id": "yzfpXpz-aP6g"
   },
   "source": [
    "# Usando a *memória* do computador\n",
    "\n",
    "Um dos elementos mais importantes do computador é a sua memória, onde podemos:\n",
    "* armazenar dados \n",
    "* recuperar dados \n",
    "para posteriormente processá-los\n",
    "\n",
    "Eletronicamente, a memória codifica dados em **bits** - valores 0 e 1 fisicamente armazenados utilizando corrente elétrica\n",
    "\n",
    "Os bits são concatenados para representar valores mais complexos. \n",
    "\n",
    "Por exemplo, considerando os números inteiros\n",
    "> 00000001 é equivamente ao número `1`<br>\n",
    "> 00001000 é equivamente ao número `8`<br>\n",
    "> ...<br>\n",
    "> 00100011 é equivamente ao número `35`<br>\n",
    "\n",
    "Já se queremos representar caracteres\n",
    "> 01100001 representa a letra `a`<br>\n",
    "> 00100011 representa o caracter `#`\n",
    "\n",
    "**Mas como diferenciar** `#` de `35`?"
   ]
  },
  {
   "cell_type": "markdown",
   "metadata": {
    "id": "yeKnqDK_UJW6"
   },
   "source": [
    "Em Python os chamados *literais* ou valores possuem um **tipo**\n",
    "\n",
    "* o tipo define a interpretação dos bits e o que podemos fazer com esse dado\n",
    "\n",
    "Existe uma **função** em Python para saber o tipo: `type()`"
   ]
  },
  {
   "cell_type": "code",
   "metadata": {
    "id": "kEIPIIhbUJW7",
    "ExecuteTime": {
     "end_time": "2025-09-16T01:35:38.158413Z",
     "start_time": "2025-09-16T01:35:38.156088Z"
    }
   },
   "source": [
    "type(35)"
   ],
   "outputs": [
    {
     "data": {
      "text/plain": [
       "int"
      ]
     },
     "execution_count": 3,
     "metadata": {},
     "output_type": "execute_result"
    }
   ],
   "execution_count": 3
  },
  {
   "cell_type": "markdown",
   "metadata": {
    "id": "wn02Whi9UJW8"
   },
   "source": [
    "O tipo `int` é relativo a números inteiros"
   ]
  },
  {
   "cell_type": "code",
   "execution_count": null,
   "metadata": {
    "id": "JzQCVSb-UJW9"
   },
   "outputs": [],
   "source": [
    "35 + 5"
   ]
  },
  {
   "cell_type": "code",
   "execution_count": null,
   "metadata": {
    "id": "5kh_V71GUJW-"
   },
   "outputs": [],
   "source": [
    "type(35 + 5)"
   ]
  },
  {
   "cell_type": "code",
   "metadata": {
    "id": "y3HgsBgIUJW_",
    "ExecuteTime": {
     "end_time": "2025-09-16T01:36:56.507250Z",
     "start_time": "2025-09-16T01:36:56.504983Z"
    }
   },
   "source": [
    "type('#')"
   ],
   "outputs": [
    {
     "data": {
      "text/plain": [
       "str"
      ]
     },
     "execution_count": 4,
     "metadata": {},
     "output_type": "execute_result"
    }
   ],
   "execution_count": 4
  },
  {
   "cell_type": "markdown",
   "metadata": {
    "id": "xjCPvkeGUJXA"
   },
   "source": [
    "O tipo `str` é relativo a *strings*, em Português *cadeias/sequências de caracteres*"
   ]
  },
  {
   "cell_type": "code",
   "metadata": {
    "id": "_on402icUJXB",
    "ExecuteTime": {
     "end_time": "2025-09-16T01:37:35.610055Z",
     "start_time": "2025-09-16T01:37:35.607219Z"
    }
   },
   "source": "'# MBA em IA e ' + 'bigdata'",
   "outputs": [
    {
     "data": {
      "text/plain": [
       "'# MBA em IA e bigdata'"
      ]
     },
     "execution_count": 7,
     "metadata": {},
     "output_type": "execute_result"
    }
   ],
   "execution_count": 7
  },
  {
   "cell_type": "code",
   "metadata": {
    "id": "kyuBQMuvUJXD",
    "ExecuteTime": {
     "end_time": "2025-09-16T01:37:37.543100Z",
     "start_time": "2025-09-16T01:37:37.442355Z"
    }
   },
   "source": [
    "'#' + 35"
   ],
   "outputs": [
    {
     "ename": "TypeError",
     "evalue": "can only concatenate str (not \"int\") to str",
     "output_type": "error",
     "traceback": [
      "\u001B[31m---------------------------------------------------------------------------\u001B[39m",
      "\u001B[31mTypeError\u001B[39m                                 Traceback (most recent call last)",
      "\u001B[36mCell\u001B[39m\u001B[36m \u001B[39m\u001B[32mIn[8]\u001B[39m\u001B[32m, line 1\u001B[39m\n\u001B[32m----> \u001B[39m\u001B[32m1\u001B[39m \u001B[33;43m'\u001B[39;49m\u001B[33;43m#\u001B[39;49m\u001B[33;43m'\u001B[39;49m\u001B[43m \u001B[49m\u001B[43m+\u001B[49m\u001B[43m \u001B[49m\u001B[32;43m35\u001B[39;49m\n",
      "\u001B[31mTypeError\u001B[39m: can only concatenate str (not \"int\") to str"
     ]
    }
   ],
   "execution_count": 8
  },
  {
   "cell_type": "markdown",
   "metadata": {
    "id": "u3CGphNkUJXE"
   },
   "source": [
    "**nosso primeiro erro!** (de muitos)\n",
    "> *é possível concatenar apenas str (e nao \"int\") com str*\n",
    "\n",
    "Sem saber já aprendemos que o `+` significa adição para inteiros, mas significa concatenação para strings"
   ]
  },
  {
   "cell_type": "markdown",
   "metadata": {
    "id": "UqK6510yUJXE"
   },
   "source": [
    "## Tipos mais comuns\n",
    "\n",
    "### Inteiro - *int*\n",
    "- Ex: `42`\n",
    "\n",
    "### Ponto flutuante - *float*\n",
    "Simula números reais, porém sua precisão é limitada (e não infinita)\n",
    "\n",
    "- Ex: `3.14`, `3.14e-10`, `.0001`, `4.`\n",
    "\n",
    "### Booleanos - *bool*\n",
    "Resultado de uma expressão lógica\n",
    "- Ex: `True`, `False`\n",
    "\n",
    "### Cadeia de caracteres - *string*\n",
    "Descrita entre aspas, é também uma sequência (abordaremos posteriormente sequências)\n",
    "- Ex: `'palavra'`, `'uma frase'`\n",
    "\n",
    "### Números complexos\n",
    "- Ex: `3j`, `4+5j`\n"
   ]
  },
  {
   "cell_type": "code",
   "metadata": {
    "id": "RNp5rndwUJXF",
    "ExecuteTime": {
     "end_time": "2025-09-16T01:38:48.213013Z",
     "start_time": "2025-09-16T01:38:48.209553Z"
    }
   },
   "source": [
    "42"
   ],
   "outputs": [
    {
     "data": {
      "text/plain": [
       "42"
      ]
     },
     "execution_count": 9,
     "metadata": {},
     "output_type": "execute_result"
    }
   ],
   "execution_count": 9
  },
  {
   "cell_type": "code",
   "metadata": {
    "id": "6KNzRQjLUJXG",
    "ExecuteTime": {
     "end_time": "2025-09-16T01:38:49.892818Z",
     "start_time": "2025-09-16T01:38:49.889920Z"
    }
   },
   "source": [
    "type(42)"
   ],
   "outputs": [
    {
     "data": {
      "text/plain": [
       "int"
      ]
     },
     "execution_count": 10,
     "metadata": {},
     "output_type": "execute_result"
    }
   ],
   "execution_count": 10
  },
  {
   "cell_type": "code",
   "metadata": {
    "id": "U2P1pRe2UJXI",
    "ExecuteTime": {
     "end_time": "2025-09-16T01:38:52.105945Z",
     "start_time": "2025-09-16T01:38:52.102996Z"
    }
   },
   "source": [
    "3.14"
   ],
   "outputs": [
    {
     "data": {
      "text/plain": [
       "3.14"
      ]
     },
     "execution_count": 11,
     "metadata": {},
     "output_type": "execute_result"
    }
   ],
   "execution_count": 11
  },
  {
   "cell_type": "code",
   "metadata": {
    "id": "ksBQzld-UJXJ",
    "ExecuteTime": {
     "end_time": "2025-09-16T01:38:54.004954Z",
     "start_time": "2025-09-16T01:38:54.001983Z"
    }
   },
   "source": [
    "type(3.14)"
   ],
   "outputs": [
    {
     "data": {
      "text/plain": [
       "float"
      ]
     },
     "execution_count": 12,
     "metadata": {},
     "output_type": "execute_result"
    }
   ],
   "execution_count": 12
  },
  {
   "cell_type": "code",
   "metadata": {
    "id": "G6K2PFe3UJXK",
    "ExecuteTime": {
     "end_time": "2025-09-16T01:38:56.481060Z",
     "start_time": "2025-09-16T01:38:56.477522Z"
    }
   },
   "source": [
    ".123456789012345678901234567890"
   ],
   "outputs": [
    {
     "data": {
      "text/plain": [
       "0.12345678901234568"
      ]
     },
     "execution_count": 13,
     "metadata": {},
     "output_type": "execute_result"
    }
   ],
   "execution_count": 13
  },
  {
   "cell_type": "code",
   "metadata": {
    "id": "TnlW8fE4UJXK",
    "ExecuteTime": {
     "end_time": "2025-09-16T01:39:11.114712Z",
     "start_time": "2025-09-16T01:39:11.111988Z"
    }
   },
   "source": [
    "3e6"
   ],
   "outputs": [
    {
     "data": {
      "text/plain": [
       "3000000.0"
      ]
     },
     "execution_count": 14,
     "metadata": {},
     "output_type": "execute_result"
    }
   ],
   "execution_count": 14
  },
  {
   "cell_type": "code",
   "metadata": {
    "id": "v4VL8J0yUJXK",
    "ExecuteTime": {
     "end_time": "2025-09-16T01:39:58.078424Z",
     "start_time": "2025-09-16T01:39:58.075905Z"
    }
   },
   "source": [
    "1.5e-3"
   ],
   "outputs": [
    {
     "data": {
      "text/plain": [
       "0.0015"
      ]
     },
     "execution_count": 15,
     "metadata": {},
     "output_type": "execute_result"
    }
   ],
   "execution_count": 15
  },
  {
   "cell_type": "code",
   "metadata": {
    "id": "6il4et16UJXL",
    "ExecuteTime": {
     "end_time": "2025-09-16T09:40:11.958396Z",
     "start_time": "2025-09-16T09:40:11.956218Z"
    }
   },
   "source": [
    "42 / 3.14"
   ],
   "outputs": [
    {
     "data": {
      "text/plain": [
       "13.375796178343949"
      ]
     },
     "execution_count": 16,
     "metadata": {},
     "output_type": "execute_result"
    }
   ],
   "execution_count": 16
  },
  {
   "cell_type": "code",
   "execution_count": null,
   "metadata": {
    "id": "z11pH27QUJXL"
   },
   "outputs": [],
   "source": [
    "type(True)"
   ]
  },
  {
   "cell_type": "code",
   "metadata": {
    "id": "myR7hUFHUJXM",
    "ExecuteTime": {
     "end_time": "2025-09-16T09:40:14.032764Z",
     "start_time": "2025-09-16T09:40:14.030065Z"
    }
   },
   "source": [
    "42 > 3.14"
   ],
   "outputs": [
    {
     "data": {
      "text/plain": [
       "True"
      ]
     },
     "execution_count": 17,
     "metadata": {},
     "output_type": "execute_result"
    }
   ],
   "execution_count": 17
  },
  {
   "cell_type": "code",
   "metadata": {
    "id": "jDLouYkRUJXM",
    "ExecuteTime": {
     "end_time": "2025-09-16T09:40:17.305191Z",
     "start_time": "2025-09-16T09:40:17.302402Z"
    }
   },
   "source": [
    "type(42 > 3.14)"
   ],
   "outputs": [
    {
     "data": {
      "text/plain": [
       "bool"
      ]
     },
     "execution_count": 18,
     "metadata": {},
     "output_type": "execute_result"
    }
   ],
   "execution_count": 18
  },
  {
   "cell_type": "code",
   "metadata": {
    "id": "A9uWXAq4UJXN",
    "ExecuteTime": {
     "end_time": "2025-09-16T09:40:25.503607Z",
     "start_time": "2025-09-16T09:40:25.501159Z"
    }
   },
   "source": [
    "'big data and artificial intelligence'"
   ],
   "outputs": [
    {
     "data": {
      "text/plain": [
       "'big data and artificial intelligence'"
      ]
     },
     "execution_count": 19,
     "metadata": {},
     "output_type": "execute_result"
    }
   ],
   "execution_count": 19
  },
  {
   "cell_type": "code",
   "metadata": {
    "id": "9PqMooDBUJXN",
    "ExecuteTime": {
     "end_time": "2025-09-16T09:40:28.196766Z",
     "start_time": "2025-09-16T09:40:28.194278Z"
    }
   },
   "source": [
    "type('big data')"
   ],
   "outputs": [
    {
     "data": {
      "text/plain": [
       "str"
      ]
     },
     "execution_count": 20,
     "metadata": {},
     "output_type": "execute_result"
    }
   ],
   "execution_count": 20
  },
  {
   "cell_type": "code",
   "metadata": {
    "id": "zmXbLVnAUJXO",
    "ExecuteTime": {
     "end_time": "2025-09-16T09:40:29.989826Z",
     "start_time": "2025-09-16T09:40:29.987578Z"
    }
   },
   "source": [
    "10j"
   ],
   "outputs": [
    {
     "data": {
      "text/plain": [
       "10j"
      ]
     },
     "execution_count": 21,
     "metadata": {},
     "output_type": "execute_result"
    }
   ],
   "execution_count": 21
  },
  {
   "cell_type": "code",
   "metadata": {
    "id": "sDJ2K2bhUJXP",
    "ExecuteTime": {
     "end_time": "2025-09-16T09:40:37.034639Z",
     "start_time": "2025-09-16T09:40:37.032293Z"
    }
   },
   "source": [
    "type(10j)"
   ],
   "outputs": [
    {
     "data": {
      "text/plain": [
       "complex"
      ]
     },
     "execution_count": 22,
     "metadata": {},
     "output_type": "execute_result"
    }
   ],
   "execution_count": 22
  },
  {
   "cell_type": "code",
   "metadata": {
    "id": "1SVJOA09UJXQ",
    "scrolled": true,
    "ExecuteTime": {
     "end_time": "2025-09-16T09:40:40.039687Z",
     "start_time": "2025-09-16T09:40:40.037028Z"
    }
   },
   "source": [
    "50+10j"
   ],
   "outputs": [
    {
     "data": {
      "text/plain": [
       "(50+10j)"
      ]
     },
     "execution_count": 23,
     "metadata": {},
     "output_type": "execute_result"
    }
   ],
   "execution_count": 23
  },
  {
   "cell_type": "code",
   "metadata": {
    "id": "c8IMq697UJXR",
    "ExecuteTime": {
     "end_time": "2025-09-16T09:40:43.890713Z",
     "start_time": "2025-09-16T09:40:43.888389Z"
    }
   },
   "source": [
    "(50+10j) * 3j"
   ],
   "outputs": [
    {
     "data": {
      "text/plain": [
       "(-30+150j)"
      ]
     },
     "execution_count": 24,
     "metadata": {},
     "output_type": "execute_result"
    }
   ],
   "execution_count": 24
  },
  {
   "cell_type": "markdown",
   "metadata": {},
   "source": [
    "# <font color=\"red\"> Resumo da aula</font>\n",
    "\n",
    "### <span style=\"color:red\">- Python</span>\n",
    "### <span style=\"color:red\">- Memória</span>\n",
    "### <span style=\"color:red\">- Tipos</span>"
   ]
  }
 ],
 "metadata": {
  "colab": {
   "collapsed_sections": [],
   "name": "LFIABD-Aula1-1_PythonBasico.ipynb",
   "provenance": []
  },
  "kernelspec": {
   "display_name": "Python 3 (ipykernel)",
   "language": "python",
   "name": "python3"
  },
  "language_info": {
   "codemirror_mode": {
    "name": "ipython",
    "version": 3
   },
   "file_extension": ".py",
   "mimetype": "text/x-python",
   "name": "python",
   "nbconvert_exporter": "python",
   "pygments_lexer": "ipython3",
   "version": "3.10.12"
  },
  "toc": {
   "base_numbering": 1,
   "nav_menu": {},
   "number_sections": true,
   "sideBar": true,
   "skip_h1_title": false,
   "title_cell": "Table of Contents",
   "title_sidebar": "Contents",
   "toc_cell": false,
   "toc_position": {},
   "toc_section_display": true,
   "toc_window_display": false
  }
 },
 "nbformat": 4,
 "nbformat_minor": 0
}
